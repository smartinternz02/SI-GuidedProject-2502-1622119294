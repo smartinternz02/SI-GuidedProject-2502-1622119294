{
 "cells": [
  {
   "cell_type": "code",
   "execution_count": 1,
   "metadata": {},
   "outputs": [],
   "source": [
    "from tensorflow.keras.models import Sequential\n",
    "from tensorflow.keras.layers import Dense\n",
    "from tensorflow.keras.layers import Convolution2D \n",
    "from tensorflow.keras.layers import MaxPooling2D \n",
    "from tensorflow.keras.layers import Flatten\n"
   ]
  },
  {
   "cell_type": "code",
   "execution_count": 2,
   "metadata": {},
   "outputs": [
    {
     "name": "stderr",
     "output_type": "stream",
     "text": [
      "Using TensorFlow backend.\n"
     ]
    }
   ],
   "source": [
    "from keras.preprocessing.image import ImageDataGenerator\n",
    "train_datagen = ImageDataGenerator(rescale = 1./255,shear_range =0.2,zoom_range=0.2,horizontal_flip= True)\n",
    "test_datagen = ImageDataGenerator(rescale = 1./255)"
   ]
  },
  {
   "cell_type": "code",
   "execution_count": 3,
   "metadata": {},
   "outputs": [
    {
     "name": "stdout",
     "output_type": "stream",
     "text": [
      "Found 415 images belonging to 4 classes.\n",
      "Found 328 images belonging to 4 classes.\n"
     ]
    }
   ],
   "source": [
    "x_train = train_datagen.flow_from_directory(r\"D:\\user im2\\train set\",target_size=(64,64),batch_size = 32,class_mode =\"categorical\")\n",
    "x_test = test_datagen.flow_from_directory(r\"D:\\user im2\\test set\",target_size=(64,64),batch_size = 32,class_mode =\"categorical\")"
   ]
  },
  {
   "cell_type": "code",
   "execution_count": 4,
   "metadata": {},
   "outputs": [],
   "source": [
    "model = Sequential()"
   ]
  },
  {
   "cell_type": "code",
   "execution_count": 5,
   "metadata": {},
   "outputs": [
    {
     "name": "stdout",
     "output_type": "stream",
     "text": [
      "WARNING:tensorflow:From C:\\Users\\Vaishnavi Gandhi\\Anaconda3\\lib\\site-packages\\tensorflow\\python\\ops\\init_ops.py:1251: calling VarianceScaling.__init__ (from tensorflow.python.ops.init_ops) with dtype is deprecated and will be removed in a future version.\n",
      "Instructions for updating:\n",
      "Call initializer instance with the dtype argument instead of passing it to the constructor\n"
     ]
    }
   ],
   "source": [
    "model.add(Convolution2D(32,(3,3) ,input_shape = (64,64,3),activation = \"relu\"))"
   ]
  },
  {
   "cell_type": "code",
   "execution_count": 6,
   "metadata": {},
   "outputs": [],
   "source": [
    "model.add(MaxPooling2D(2,2))"
   ]
  },
  {
   "cell_type": "code",
   "execution_count": 7,
   "metadata": {},
   "outputs": [],
   "source": [
    "model.add(Flatten())"
   ]
  },
  {
   "cell_type": "code",
   "execution_count": 8,
   "metadata": {},
   "outputs": [
    {
     "name": "stdout",
     "output_type": "stream",
     "text": [
      "WARNING:tensorflow:From C:\\Users\\Vaishnavi Gandhi\\Anaconda3\\lib\\site-packages\\tensorflow\\python\\keras\\initializers.py:119: calling RandomUniform.__init__ (from tensorflow.python.ops.init_ops) with dtype is deprecated and will be removed in a future version.\n",
      "Instructions for updating:\n",
      "Call initializer instance with the dtype argument instead of passing it to the constructor\n"
     ]
    }
   ],
   "source": [
    "model.add(Dense(units = 512,activation = \"relu\",kernel_initializer = \"random_uniform\"))"
   ]
  },
  {
   "cell_type": "code",
   "execution_count": 9,
   "metadata": {},
   "outputs": [],
   "source": [
    "model.add(Dense(units = 4,activation = \"softmax\",kernel_initializer = \"random_uniform\"))"
   ]
  },
  {
   "cell_type": "code",
   "execution_count": 10,
   "metadata": {},
   "outputs": [],
   "source": [
    "model.compile(\"sgd\",loss = \"categorical_crossentropy\",metrics = [\"accuracy\"])"
   ]
  },
  {
   "cell_type": "code",
   "execution_count": 11,
   "metadata": {},
   "outputs": [
    {
     "name": "stdout",
     "output_type": "stream",
     "text": [
      "Epoch 1/30\n",
      "13/13 [==============================] - 7s 565ms/step - loss: 1.3677 - acc: 0.3205 - val_loss: 1.3155 - val_acc: 0.4146\n",
      "Epoch 2/30\n",
      "13/13 [==============================] - 4s 313ms/step - loss: 1.2585 - acc: 0.4458 - val_loss: 1.1916 - val_acc: 0.5427\n",
      "Epoch 3/30\n",
      "13/13 [==============================] - 4s 334ms/step - loss: 1.1865 - acc: 0.4988 - val_loss: 1.1082 - val_acc: 0.5823\n",
      "Epoch 4/30\n",
      "13/13 [==============================] - 4s 325ms/step - loss: 1.1550 - acc: 0.5229 - val_loss: 1.0266 - val_acc: 0.5884\n",
      "Epoch 5/30\n",
      "13/13 [==============================] - 4s 342ms/step - loss: 1.1106 - acc: 0.5639 - val_loss: 1.1758 - val_acc: 0.4543\n",
      "Epoch 6/30\n",
      "13/13 [==============================] - 4s 336ms/step - loss: 1.0415 - acc: 0.5855 - val_loss: 0.9155 - val_acc: 0.6799\n",
      "Epoch 7/30\n",
      "13/13 [==============================] - 4s 322ms/step - loss: 1.0126 - acc: 0.5831 - val_loss: 1.1600 - val_acc: 0.5610\n",
      "Epoch 8/30\n",
      "13/13 [==============================] - 4s 331ms/step - loss: 1.0161 - acc: 0.5711 - val_loss: 0.8927 - val_acc: 0.7012\n",
      "Epoch 9/30\n",
      "13/13 [==============================] - 5s 351ms/step - loss: 0.9817 - acc: 0.6120 - val_loss: 0.8490 - val_acc: 0.7287\n",
      "Epoch 10/30\n",
      "13/13 [==============================] - 4s 322ms/step - loss: 0.9513 - acc: 0.6361 - val_loss: 0.9093 - val_acc: 0.6128\n",
      "Epoch 11/30\n",
      "13/13 [==============================] - 4s 317ms/step - loss: 0.8633 - acc: 0.6771 - val_loss: 0.8082 - val_acc: 0.7195\n",
      "Epoch 12/30\n",
      "13/13 [==============================] - 4s 337ms/step - loss: 0.8971 - acc: 0.6337 - val_loss: 0.7541 - val_acc: 0.7317\n",
      "Epoch 13/30\n",
      "13/13 [==============================] - 5s 374ms/step - loss: 0.9010 - acc: 0.6410 - val_loss: 0.7512 - val_acc: 0.7591\n",
      "Epoch 14/30\n",
      "13/13 [==============================] - 4s 346ms/step - loss: 0.8116 - acc: 0.6988 - val_loss: 0.7154 - val_acc: 0.7439\n",
      "Epoch 15/30\n",
      "13/13 [==============================] - 5s 347ms/step - loss: 0.8090 - acc: 0.7012 - val_loss: 0.7452 - val_acc: 0.7226\n",
      "Epoch 16/30\n",
      "13/13 [==============================] - 4s 340ms/step - loss: 0.8222 - acc: 0.6916 - val_loss: 0.6877 - val_acc: 0.7774\n",
      "Epoch 17/30\n",
      "13/13 [==============================] - 4s 326ms/step - loss: 0.7934 - acc: 0.7036 - val_loss: 0.6850 - val_acc: 0.7805\n",
      "Epoch 18/30\n",
      "13/13 [==============================] - 4s 335ms/step - loss: 0.8095 - acc: 0.6867 - val_loss: 0.6480 - val_acc: 0.7866\n",
      "Epoch 19/30\n",
      "13/13 [==============================] - 5s 359ms/step - loss: 0.7737 - acc: 0.7012 - val_loss: 0.6560 - val_acc: 0.7896\n",
      "Epoch 20/30\n",
      "13/13 [==============================] - 4s 327ms/step - loss: 0.7836 - acc: 0.7253 - val_loss: 0.6652 - val_acc: 0.7652\n",
      "Epoch 21/30\n",
      "13/13 [==============================] - 4s 329ms/step - loss: 0.7731 - acc: 0.7133 - val_loss: 0.5871 - val_acc: 0.8201\n",
      "Epoch 22/30\n",
      "13/13 [==============================] - 4s 345ms/step - loss: 0.7410 - acc: 0.7253 - val_loss: 0.5578 - val_acc: 0.8323\n",
      "Epoch 23/30\n",
      "13/13 [==============================] - 4s 329ms/step - loss: 0.7469 - acc: 0.7229 - val_loss: 0.5792 - val_acc: 0.8323\n",
      "Epoch 24/30\n",
      "13/13 [==============================] - 4s 337ms/step - loss: 0.7361 - acc: 0.7277 - val_loss: 0.5534 - val_acc: 0.8323\n",
      "Epoch 25/30\n",
      "13/13 [==============================] - 4s 314ms/step - loss: 0.7438 - acc: 0.7277 - val_loss: 0.5854 - val_acc: 0.8110\n",
      "Epoch 26/30\n",
      "13/13 [==============================] - 4s 329ms/step - loss: 0.6951 - acc: 0.7590 - val_loss: 0.5371 - val_acc: 0.8171\n",
      "Epoch 27/30\n",
      "13/13 [==============================] - 4s 323ms/step - loss: 0.6789 - acc: 0.7277 - val_loss: 0.7625 - val_acc: 0.7165\n",
      "Epoch 28/30\n",
      "13/13 [==============================] - 4s 317ms/step - loss: 0.7172 - acc: 0.7253 - val_loss: 0.5243 - val_acc: 0.8232\n",
      "Epoch 29/30\n",
      "13/13 [==============================] - 4s 334ms/step - loss: 0.6690 - acc: 0.7446 - val_loss: 0.4958 - val_acc: 0.8537\n",
      "Epoch 30/30\n",
      "13/13 [==============================] - 4s 328ms/step - loss: 0.6977 - acc: 0.7181 - val_loss: 0.5477 - val_acc: 0.7866\n"
     ]
    },
    {
     "data": {
      "text/plain": [
       "<tensorflow.python.keras.callbacks.History at 0x2292ac00f28>"
      ]
     },
     "execution_count": 11,
     "metadata": {},
     "output_type": "execute_result"
    }
   ],
   "source": [
    "model.fit_generator(x_train ,steps_per_epoch = 13 ,epochs = 30,validation_data= x_test , validation_steps = 11)"
   ]
  },
  {
   "cell_type": "code",
   "execution_count": 12,
   "metadata": {},
   "outputs": [],
   "source": [
    "model.save(\"human face.h5\")"
   ]
  },
  {
   "cell_type": "code",
   "execution_count": 13,
   "metadata": {},
   "outputs": [
    {
     "data": {
      "text/plain": [
       "'D:\\\\externship'"
      ]
     },
     "execution_count": 13,
     "metadata": {},
     "output_type": "execute_result"
    }
   ],
   "source": [
    "pwd"
   ]
  },
  {
   "cell_type": "code",
   "execution_count": null,
   "metadata": {},
   "outputs": [],
   "source": []
  }
 ],
 "metadata": {
  "kernelspec": {
   "display_name": "Python 3",
   "language": "python",
   "name": "python3"
  },
  "language_info": {
   "codemirror_mode": {
    "name": "ipython",
    "version": 3
   },
   "file_extension": ".py",
   "mimetype": "text/x-python",
   "name": "python",
   "nbconvert_exporter": "python",
   "pygments_lexer": "ipython3",
   "version": "3.7.3"
  }
 },
 "nbformat": 4,
 "nbformat_minor": 2
}
